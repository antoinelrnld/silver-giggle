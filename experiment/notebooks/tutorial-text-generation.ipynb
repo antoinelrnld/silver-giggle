{
 "cells": [
  {
   "cell_type": "code",
   "execution_count": null,
   "id": "66ff71ec-13e2-4145-914b-df2262b87ac7",
   "metadata": {},
   "outputs": [],
   "source": [
    "import tensorflow as tf\n",
    "\n",
    "import numpy as np\n",
    "import os\n",
    "import time"
   ]
  },
  {
   "cell_type": "markdown",
   "id": "4bd95c2c-4cb4-41f5-99dd-f2a7ff579915",
   "metadata": {},
   "source": [
    "# 1. Get Shakespeare data"
   ]
  },
  {
   "cell_type": "code",
   "execution_count": null,
   "id": "0f30b9ee-fd33-44c5-bab0-97231ac5ba50",
   "metadata": {},
   "outputs": [],
   "source": [
    "path_to_file = tf.keras.utils.get_file(\n",
    "    'shakespeare.txt',\n",
    "    'https://storage.googleapis.com/download.tensorflow.org/data/shakespeare.txt'\n",
    ")"
   ]
  },
  {
   "cell_type": "code",
   "execution_count": null,
   "id": "b2eb6139-0559-4f7e-948d-e66e4c5f6d06",
   "metadata": {},
   "outputs": [],
   "source": [
    "# Read, then decode for py2 compat.\n",
    "text = open(path_to_file, 'rb').read().decode(encoding='utf-8')\n",
    "# length of text is the number of characters in it\n",
    "print(f'Length of text: {len(text)} characters')"
   ]
  },
  {
   "cell_type": "code",
   "execution_count": null,
   "id": "ebbd8a21-fef7-488d-863a-7f2079060bcd",
   "metadata": {},
   "outputs": [],
   "source": [
    "# Take a look at the first 250 characters in text\n",
    "text_first250 = text[:250]\n",
    "print(text_first250)"
   ]
  },
  {
   "cell_type": "code",
   "execution_count": null,
   "id": "ebddfbd7-5b12-4e8e-85f1-b00985b77a8c",
   "metadata": {},
   "outputs": [],
   "source": [
    "# The unique characters in the file\n",
    "vocab = sorted(set(text))\n",
    "print(f'{len(vocab)} unique characters')"
   ]
  },
  {
   "cell_type": "markdown",
   "id": "7fbfc0dc-d9eb-4cc3-a3f6-d40ad0a52921",
   "metadata": {},
   "source": [
    "# 2. Process text\n",
    "Tokenize and vectorize: convert strings into numerical representation"
   ]
  },
  {
   "cell_type": "code",
   "execution_count": null,
   "id": "cc949803-ea98-4ee3-a7f3-99906aa1a330",
   "metadata": {},
   "outputs": [],
   "source": [
    "ids_from_chars = tf.keras.layers.StringLookup(vocabulary=list(vocab), mask_token=None)"
   ]
  },
  {
   "cell_type": "code",
   "execution_count": null,
   "id": "42d3fb2a-8511-4433-8083-2877426bd76e",
   "metadata": {},
   "outputs": [],
   "source": [
    "example_text = ['this', 'giggle', 'is', 'so', 'silver']\n",
    "example_chars = tf.strings.unicode_split(example_text, input_encoding='UTF-8')\n",
    "example_chars"
   ]
  },
  {
   "cell_type": "code",
   "execution_count": null,
   "id": "3f578c43-8bde-4278-93cb-80038020f598",
   "metadata": {},
   "outputs": [],
   "source": [
    "ids_from_chars = tf.keras.layers.StringLookup(vocabulary=list(vocab), mask_token=None)\n",
    "example_ids = ids_from_chars(example_chars)\n",
    "print(example_ids)"
   ]
  },
  {
   "cell_type": "markdown",
   "id": "dfe3bed1-bd3d-4981-8e5b-c315883924b0",
   "metadata": {},
   "source": [
    "This is the numerical representation of our example text. We need a way to convert it back into text :"
   ]
  },
  {
   "cell_type": "code",
   "execution_count": null,
   "id": "01706718-40d1-4367-981d-5fddb290e62d",
   "metadata": {},
   "outputs": [],
   "source": [
    "chars_from_ids = tf.keras.layers.StringLookup(\n",
    "    vocabulary=ids_from_chars.get_vocabulary(), invert=True, mask_token=None)\n",
    "\n",
    "print(chars_from_ids(example_ids))"
   ]
  },
  {
   "cell_type": "code",
   "execution_count": null,
   "id": "37087655-0425-4006-beff-85ac7565855b",
   "metadata": {},
   "outputs": [],
   "source": [
    "tf.strings.reduce_join(chars_from_ids(example_ids), axis=-1).numpy()"
   ]
  },
  {
   "cell_type": "code",
   "execution_count": null,
   "id": "654b7e63-fdac-430e-8a1c-59bac09dbb63",
   "metadata": {},
   "outputs": [],
   "source": [
    "def text_from_ids(ids):\n",
    "  return tf.strings.reduce_join(chars_from_ids(ids), axis=-1)"
   ]
  },
  {
   "cell_type": "markdown",
   "id": "e92e82be-5ea1-4358-9fcd-274c9df64548",
   "metadata": {},
   "source": [
    "# 3. Prediction task: train on corpus and predict what's next\n",
    "`tf.data.Dataset.from_tensor_slices` function to convert the text vector into a stream of character indices"
   ]
  },
  {
   "cell_type": "code",
   "execution_count": null,
   "id": "f4bf6469-d01c-48bd-b3ac-b48eb1b6bb2f",
   "metadata": {},
   "outputs": [],
   "source": [
    "all_ids = ids_from_chars(tf.strings.unicode_split(text, 'UTF-8'))\n",
    "all_ids"
   ]
  },
  {
   "cell_type": "code",
   "execution_count": null,
   "id": "2a355fb4-6a10-4d67-a623-dae54274d526",
   "metadata": {},
   "outputs": [],
   "source": [
    "ids_dataset = tf.data.Dataset.from_tensor_slices(all_ids)"
   ]
  },
  {
   "cell_type": "code",
   "execution_count": null,
   "id": "d31b07ca-0476-4ba6-be88-345a80417c08",
   "metadata": {},
   "outputs": [],
   "source": [
    "seq_length = 100\n",
    "sequences = ids_dataset.batch(seq_length+1, drop_remainder=True)\n",
    "\n",
    "for seq in sequences.take(1):\n",
    "  print(chars_from_ids(seq))"
   ]
  },
  {
   "cell_type": "code",
   "execution_count": null,
   "id": "aab2bcdd-1de5-44b6-83fe-a679fef2983c",
   "metadata": {},
   "outputs": [],
   "source": [
    "def split_input_target(sequence):\n",
    "    input_text = sequence[:-1]\n",
    "    target_text = sequence[1:]\n",
    "    return input_text, target_text"
   ]
  },
  {
   "cell_type": "code",
   "execution_count": null,
   "id": "6b31c2fc-bf53-4613-b91c-c2bbca579809",
   "metadata": {},
   "outputs": [],
   "source": [
    "dataset = sequences.map(split_input_target)\n",
    "\n",
    "for input_example, target_example in dataset.take(1):\n",
    "    print(\"Input :\", text_from_ids(input_example).numpy())\n",
    "    print(\"Target:\", text_from_ids(target_example).numpy())"
   ]
  },
  {
   "cell_type": "markdown",
   "id": "92737928-b310-408d-bc38-b01fb84fd2d6",
   "metadata": {},
   "source": [
    "## Create training batches"
   ]
  },
  {
   "cell_type": "code",
   "execution_count": null,
   "id": "8df45284-a6c0-436c-9c6e-ffa39a78c738",
   "metadata": {},
   "outputs": [],
   "source": [
    "# Batch size\n",
    "BATCH_SIZE = 64\n",
    "\n",
    "# Buffer size to shuffle the dataset\n",
    "# (TF data is designed to work with possibly infinite sequences,\n",
    "# so it doesn't attempt to shuffle the entire sequence in memory. Instead,\n",
    "# it maintains a buffer in which it shuffles elements).\n",
    "BUFFER_SIZE = 10000\n",
    "\n",
    "dataset = (\n",
    "    dataset\n",
    "    .shuffle(BUFFER_SIZE)\n",
    "    .batch(BATCH_SIZE, drop_remainder=True)\n",
    "    .prefetch(tf.data.experimental.AUTOTUNE))\n",
    "\n",
    "dataset"
   ]
  },
  {
   "cell_type": "code",
   "execution_count": null,
   "id": "99c71edc-a2e4-4e65-bf71-808c3b81a589",
   "metadata": {},
   "outputs": [],
   "source": [
    "# Length of the vocabulary in StringLookup Layer\n",
    "vocab_size = len(ids_from_chars.get_vocabulary())\n",
    "\n",
    "# The embedding dimension\n",
    "embedding_dim = 256\n",
    "\n",
    "# Number of RNN units\n",
    "rnn_units = 1024"
   ]
  },
  {
   "cell_type": "code",
   "execution_count": null,
   "id": "17b04f24-bd05-422b-8b99-b0d3e25beece",
   "metadata": {},
   "outputs": [],
   "source": [
    "class MyModel(tf.keras.Model):\n",
    "  def __init__(self, vocab_size, embedding_dim, rnn_units):\n",
    "    super().__init__(self)\n",
    "    self.embedding = tf.keras.layers.Embedding(vocab_size, embedding_dim)\n",
    "    self.gru = tf.keras.layers.GRU(rnn_units,\n",
    "                                   return_sequences=True,\n",
    "                                   return_state=True)\n",
    "    self.dense = tf.keras.layers.Dense(vocab_size)\n",
    "\n",
    "  def call(self, inputs, states=None, return_state=False, training=False):\n",
    "    x = inputs\n",
    "    x = self.embedding(x, training=training)\n",
    "    if states is None:\n",
    "      states = self.gru.get_initial_state(x)\n",
    "    x, states = self.gru(x, initial_state=states, training=training)\n",
    "    x = self.dense(x, training=training)\n",
    "\n",
    "    if return_state:\n",
    "      return x, states\n",
    "    else:\n",
    "      return x"
   ]
  },
  {
   "cell_type": "code",
   "execution_count": null,
   "id": "cf5888ce-dc73-416c-903f-7f5fdf511451",
   "metadata": {},
   "outputs": [],
   "source": [
    "model = MyModel(\n",
    "    vocab_size=vocab_size,\n",
    "    embedding_dim=embedding_dim,\n",
    "    rnn_units=rnn_units)"
   ]
  },
  {
   "cell_type": "code",
   "execution_count": null,
   "id": "d042ed02-70e8-4c58-a76f-ca2593a6cd24",
   "metadata": {},
   "outputs": [],
   "source": [
    "for input_example_batch, target_example_batch in dataset.take(1):\n",
    "    example_batch_predictions = model(input_example_batch)\n",
    "    print(example_batch_predictions.shape,\n",
    "          \"# (batch_size, sequence_length, vocab_size)\")"
   ]
  },
  {
   "cell_type": "code",
   "execution_count": null,
   "id": "18c9582b-b1b7-4f15-a26e-ff06a269fe21",
   "metadata": {},
   "outputs": [],
   "source": [
    "model.summary()"
   ]
  },
  {
   "cell_type": "code",
   "execution_count": null,
   "id": "0ccac2e3-51cf-40e3-9dcd-c29d391928e3",
   "metadata": {},
   "outputs": [],
   "source": [
    "sampled_indices = tf.random.categorical(example_batch_predictions[0], num_samples=1)\n",
    "sampled_indices = tf.squeeze(sampled_indices, axis=-1).numpy()"
   ]
  },
  {
   "cell_type": "code",
   "execution_count": null,
   "id": "6cc1a1c8-61b7-468e-b88a-f2cba80cb3ac",
   "metadata": {},
   "outputs": [],
   "source": [
    "print(\"Input:\\n\", text_from_ids(input_example_batch[0]).numpy())\n",
    "print()\n",
    "print(\"Next Char Predictions:\\n\", text_from_ids(sampled_indices).numpy())"
   ]
  },
  {
   "cell_type": "code",
   "execution_count": null,
   "id": "e857964b-ac2e-41d0-a995-4323732bd77a",
   "metadata": {},
   "outputs": [],
   "source": [
    "len(text_from_ids(sampled_indices).numpy())"
   ]
  },
  {
   "cell_type": "markdown",
   "id": "81b321b2-b1c9-4840-aafd-eab74e59fe2f",
   "metadata": {},
   "source": [
    "### Train"
   ]
  },
  {
   "cell_type": "code",
   "execution_count": null,
   "id": "6dca1404-da47-42ea-9c2d-1144e0bb123f",
   "metadata": {},
   "outputs": [],
   "source": [
    "loss = tf.losses.SparseCategoricalCrossentropy(from_logits=True)"
   ]
  },
  {
   "cell_type": "code",
   "execution_count": null,
   "id": "c032085f-5689-4d56-9d6b-5365ce612c63",
   "metadata": {},
   "outputs": [],
   "source": [
    "example_batch_mean_loss = loss(target_example_batch, example_batch_predictions)\n",
    "print(\"Prediction shape: \", example_batch_predictions.shape, \" # (batch_size, sequence_length, vocab_size)\")\n",
    "print(\"Mean loss:        \", example_batch_mean_loss)"
   ]
  },
  {
   "cell_type": "code",
   "execution_count": null,
   "id": "338c91bf-bae7-45b0-a6bb-e49b80d27d4e",
   "metadata": {},
   "outputs": [],
   "source": [
    "model.compile(optimizer='adam', loss=loss)"
   ]
  },
  {
   "cell_type": "code",
   "execution_count": null,
   "id": "3fa931c5-aa4f-480a-88a8-cea3edb02f67",
   "metadata": {},
   "outputs": [],
   "source": [
    "# Directory where the checkpoints will be saved\n",
    "checkpoint_dir = './training_checkpoints'\n",
    "# Name of the checkpoint files\n",
    "checkpoint_prefix = os.path.join(checkpoint_dir, \"ckpt_{epoch}\")\n",
    "\n",
    "checkpoint_callback = tf.keras.callbacks.ModelCheckpoint(\n",
    "    filepath=checkpoint_prefix,\n",
    "    save_weights_only=True)"
   ]
  },
  {
   "cell_type": "code",
   "execution_count": null,
   "id": "6f552d1f-175e-40b8-aa0a-254135491e90",
   "metadata": {},
   "outputs": [],
   "source": [
    "EPOCHS = 3\n",
    "history = model.fit(dataset, epochs=EPOCHS, callbacks=[checkpoint_callback])"
   ]
  },
  {
   "cell_type": "code",
   "execution_count": null,
   "id": "c879f834-95e0-402f-88aa-f67d371c38f2",
   "metadata": {},
   "outputs": [],
   "source": []
  }
 ],
 "metadata": {
  "kernelspec": {
   "display_name": "venv-exp",
   "language": "python",
   "name": "venv-exp"
  },
  "language_info": {
   "codemirror_mode": {
    "name": "ipython",
    "version": 3
   },
   "file_extension": ".py",
   "mimetype": "text/x-python",
   "name": "python",
   "nbconvert_exporter": "python",
   "pygments_lexer": "ipython3",
   "version": "3.11.0"
  }
 },
 "nbformat": 4,
 "nbformat_minor": 5
}
