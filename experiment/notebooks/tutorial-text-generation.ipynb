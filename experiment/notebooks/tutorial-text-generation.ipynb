{
 "cells": [
  {
   "cell_type": "markdown",
   "id": "c6fc2137-aa16-40db-88ca-cebab7c8e13e",
   "metadata": {},
   "source": [
    "See https://www.tensorflow.org/text/tutorials/text_generation"
   ]
  },
  {
   "cell_type": "code",
   "execution_count": null,
   "id": "66ff71ec-13e2-4145-914b-df2262b87ac7",
   "metadata": {
    "scrolled": true
   },
   "outputs": [],
   "source": [
    "import tensorflow as tf\n",
    "\n",
    "import numpy as np\n",
    "import os\n",
    "import time\n",
    "import sys\n",
    "sys.path.append('../train')\n",
    "from src.shakespeare_model import (\n",
    "    OneStepModel, ShakespeareModel, split_input_target, generate_batch_dataset\n",
    ")"
   ]
  },
  {
   "cell_type": "markdown",
   "id": "4bd95c2c-4cb4-41f5-99dd-f2a7ff579915",
   "metadata": {},
   "source": [
    "# 1. Get Shakespeare data"
   ]
  },
  {
   "cell_type": "code",
   "execution_count": null,
   "id": "0f30b9ee-fd33-44c5-bab0-97231ac5ba50",
   "metadata": {},
   "outputs": [],
   "source": [
    "path_to_file = tf.keras.utils.get_file(\n",
    "    'shakespeare.txt',\n",
    "    'https://storage.googleapis.com/download.tensorflow.org/data/shakespeare.txt'\n",
    ")\n",
    "# Read, then decode for py2 compat.\n",
    "text = open(path_to_file, 'rb').read().decode(encoding='utf-8')\n",
    "# length of text is the number of characters in it\n",
    "print(f'Length of text: {len(text)} characters')\n",
    "\n",
    "# Unique characters in the file: define vocabulary\n",
    "vocab = sorted(set(text))\n",
    "print(f'{len(vocab)} unique characters')"
   ]
  },
  {
   "cell_type": "code",
   "execution_count": null,
   "id": "b2eb6139-0559-4f7e-948d-e66e4c5f6d06",
   "metadata": {},
   "outputs": [],
   "source": [
    "# Split between train and validation sets\n",
    "split_index = 1003857  # Approx 90% ratio between train/validation\n",
    "text_train = text[:split_index]\n",
    "text_valid = text[split_index:]\n",
    "\n",
    "# Reduce train text smoke training\n",
    "text_train = text_train[:20000]\n",
    "print(f'{len(sorted(set(text_train)))} unique characters')"
   ]
  },
  {
   "cell_type": "markdown",
   "id": "7fbfc0dc-d9eb-4cc3-a3f6-d40ad0a52921",
   "metadata": {},
   "source": [
    "# 2. Process text\n",
    "Tokenize and vectorize: convert strings into numerical representation"
   ]
  },
  {
   "cell_type": "code",
   "execution_count": null,
   "id": "42d3fb2a-8511-4433-8083-2877426bd76e",
   "metadata": {},
   "outputs": [],
   "source": [
    "ids_from_chars = tf.keras.layers.StringLookup(vocabulary=list(vocab), mask_token=None)\n",
    "\n",
    "example_text = ['this', 'giggle', 'is', 'so', 'silver']\n",
    "example_chars = tf.strings.unicode_split(example_text, input_encoding='UTF-8')\n",
    "\n",
    "ids_from_chars = tf.keras.layers.StringLookup(vocabulary=list(vocab), mask_token=None)\n",
    "example_ids = ids_from_chars(example_chars)\n",
    "print(example_ids)"
   ]
  },
  {
   "cell_type": "markdown",
   "id": "dfe3bed1-bd3d-4981-8e5b-c315883924b0",
   "metadata": {},
   "source": [
    "This is the numerical representation of our example text. We need a way to convert it back into text :"
   ]
  },
  {
   "cell_type": "code",
   "execution_count": null,
   "id": "01706718-40d1-4367-981d-5fddb290e62d",
   "metadata": {},
   "outputs": [],
   "source": [
    "chars_from_ids = tf.keras.layers.StringLookup(\n",
    "    vocabulary=ids_from_chars.get_vocabulary(), invert=True, mask_token=None)\n",
    "\n",
    "print(chars_from_ids(example_ids))"
   ]
  },
  {
   "cell_type": "code",
   "execution_count": null,
   "id": "37087655-0425-4006-beff-85ac7565855b",
   "metadata": {},
   "outputs": [],
   "source": [
    "tf.strings.reduce_join(chars_from_ids(example_ids), axis=-1).numpy()"
   ]
  },
  {
   "cell_type": "code",
   "execution_count": null,
   "id": "654b7e63-fdac-430e-8a1c-59bac09dbb63",
   "metadata": {},
   "outputs": [],
   "source": [
    "def text_from_ids(ids):\n",
    "    return tf.strings.reduce_join(chars_from_ids(ids), axis=-1)"
   ]
  },
  {
   "cell_type": "markdown",
   "id": "e92e82be-5ea1-4358-9fcd-274c9df64548",
   "metadata": {},
   "source": [
    "# 3. Prediction task: train on corpus and predict what's next\n",
    "`tf.data.Dataset.from_tensor_slices` function to convert the text vector into a stream of character indices"
   ]
  },
  {
   "cell_type": "code",
   "execution_count": null,
   "id": "fb4a2447-b280-4fb6-ae3f-d45ac54b770c",
   "metadata": {},
   "outputs": [],
   "source": [
    "SEQ_LENGTH = 100\n",
    "# Batch size\n",
    "BATCH_SIZE = 64\n",
    "# Buffer size to shuffle the dataset\n",
    "# (TF data is designed to work with possibly infinite sequences,\n",
    "# so it doesn't attempt to shuffle the entire sequence in memory. Instead,\n",
    "# it maintains a buffer in which it shuffles elements).\n",
    "BUFFER_SIZE = 10000\n",
    "train_dataset_batch = generate_batch_dataset(\n",
    "    text=text_train,\n",
    "    ids_from_chars=ids_from_chars,\n",
    "    seq_length=SEQ_LENGTH,\n",
    "    buffer_size=BUFFER_SIZE,\n",
    "    batch_size=BATCH_SIZE\n",
    ")"
   ]
  },
  {
   "cell_type": "code",
   "execution_count": null,
   "id": "8df45284-a6c0-436c-9c6e-ffa39a78c738",
   "metadata": {},
   "outputs": [],
   "source": [
    "# Length of the vocabulary in StringLookup Layer\n",
    "vocab_size = len(ids_from_chars.get_vocabulary())\n",
    "# The embedding dimension\n",
    "embedding_dim = 256\n",
    "# Number of RNN units\n",
    "rnn_units = 1024\n",
    "\n",
    "model = ShakespeareModel(\n",
    "    vocab_size=vocab_size,\n",
    "    embedding_dim=embedding_dim,\n",
    "    rnn_units=rnn_units\n",
    ")"
   ]
  },
  {
   "cell_type": "code",
   "execution_count": null,
   "id": "c7f0901e-311d-4234-a731-7e783f483f36",
   "metadata": {},
   "outputs": [],
   "source": [
    "for input_example_batch, target_example_batch in train_dataset_batch.take(1):\n",
    "    print(input_example_batch)\n",
    "    example_batch_predictions = model(input_example_batch)\n",
    "    print(f'{example_batch_predictions.shape}  # (batch_size, sequence_length, vocab_size)')"
   ]
  },
  {
   "cell_type": "code",
   "execution_count": null,
   "id": "109c1f70-607f-45dc-b30b-3454b0e8d10c",
   "metadata": {},
   "outputs": [],
   "source": [
    "model.summary()"
   ]
  },
  {
   "cell_type": "code",
   "execution_count": null,
   "id": "0ccac2e3-51cf-40e3-9dcd-c29d391928e3",
   "metadata": {},
   "outputs": [],
   "source": [
    "sampled_indices = tf.random.categorical(example_batch_predictions[0], num_samples=1)\n",
    "sampled_indices = tf.squeeze(sampled_indices, axis=-1).numpy()\n",
    "\n",
    "print(\"Input:\\n\", text_from_ids(input_example_batch[0]).numpy())\n",
    "print()\n",
    "print(\"Next Char Predictions:\\n\", text_from_ids(sampled_indices).numpy())"
   ]
  },
  {
   "cell_type": "markdown",
   "id": "81b321b2-b1c9-4840-aafd-eab74e59fe2f",
   "metadata": {},
   "source": [
    "### Train"
   ]
  },
  {
   "cell_type": "code",
   "execution_count": null,
   "id": "338c91bf-bae7-45b0-a6bb-e49b80d27d4e",
   "metadata": {},
   "outputs": [],
   "source": [
    "loss = tf.losses.SparseCategoricalCrossentropy(from_logits=True)\n",
    "example_batch_mean_loss = loss(target_example_batch, example_batch_predictions)\n",
    "print(f'Prediction shape: {example_batch_predictions.shape}  # (batch_size, sequence_length, vocab_size)')\n",
    "print(f'Mean loss: {example_batch_mean_loss}')\n",
    "\n",
    "model.compile(optimizer='adam', loss=loss)\n",
    "\n",
    "# Directory where the checkpoints will be saved\n",
    "checkpoint_dir = './training_checkpoints'\n",
    "# Name of the checkpoint files\n",
    "checkpoint_prefix = os.path.join(checkpoint_dir, \"ckpt_{epoch}\")\n",
    "\n",
    "checkpoint_callback = tf.keras.callbacks.ModelCheckpoint(\n",
    "    filepath=checkpoint_prefix,\n",
    "    save_weights_only=True\n",
    ")\n",
    "\n",
    "EPOCHS = 15\n",
    "history = model.fit(train_dataset_batch, epochs=EPOCHS, callbacks=[checkpoint_callback])"
   ]
  },
  {
   "cell_type": "code",
   "execution_count": null,
   "id": "e0c8b624-4fd7-45ee-83fa-7a93fad297cc",
   "metadata": {},
   "outputs": [],
   "source": [
    "# Create a OneStepModel generator\n",
    "one_step_model = OneStepModel(model, chars_from_ids, ids_from_chars)\n",
    "start = time.time()\n",
    "states = None\n",
    "next_char = tf.constant(['ROMEO:'])\n",
    "result = [next_char]\n",
    "\n",
    "for n in range(1000):\n",
    "    next_char, states = one_step_model.generate_one_step(next_char, states=states)\n",
    "    result.append(next_char)\n",
    "\n",
    "result = tf.strings.join(result)\n",
    "end = time.time()\n",
    "print(result[0].numpy().decode('utf-8'), '\\n\\n' + '_'*80)\n",
    "print('\\nRun time:', end - start)"
   ]
  },
  {
   "cell_type": "code",
   "execution_count": null,
   "id": "27198b00-4697-4909-abc5-bca800d76275",
   "metadata": {},
   "outputs": [],
   "source": [
    "# Create a OneStepModel generator\n",
    "one_step_model = OneStepModel(model, chars_from_ids, ids_from_chars)\n",
    "start = time.time()\n",
    "states = None\n",
    "next_char = tf.constant(['ROMEO:'])\n",
    "result = [next_char]\n",
    "\n",
    "for n in range(1000):\n",
    "    next_char, states = one_step_model.generate_one_step(next_char, states=states)\n",
    "    result.append(next_char)\n",
    "\n",
    "result = tf.strings.join(result)\n",
    "end = time.time()\n",
    "print(result[0].numpy().decode('utf-8'), '\\n\\n' + '_'*80)\n",
    "print('\\nRun time:', end - start)"
   ]
  },
  {
   "cell_type": "code",
   "execution_count": null,
   "id": "30fd2705-cba9-4cd3-82b3-d135223e0414",
   "metadata": {},
   "outputs": [],
   "source": [
    "tf.config.run_functions_eagerly(True)"
   ]
  },
  {
   "cell_type": "code",
   "execution_count": null,
   "id": "4295a1bb-ec82-448c-b670-95074bb88521",
   "metadata": {},
   "outputs": [],
   "source": [
    "one_step_model.generate_one_sentence('GREMIO:\\n')"
   ]
  },
  {
   "cell_type": "code",
   "execution_count": null,
   "id": "8760ac7b-e845-419d-803a-a1284188f58f",
   "metadata": {},
   "outputs": [],
   "source": [
    "tf.saved_model.save(one_step_model, 'one_step')\n",
    "#one_step_reloaded = tf.saved_model.load('one_step')"
   ]
  },
  {
   "cell_type": "markdown",
   "id": "6b1e0d38-c8aa-4710-8022-ebc3215c9034",
   "metadata": {},
   "source": [
    "## Validation process\n",
    "### Metrics"
   ]
  },
  {
   "cell_type": "code",
   "execution_count": null,
   "id": "31498de4-33a0-4618-855f-5719a6a938e1",
   "metadata": {},
   "outputs": [],
   "source": [
    "import nltk\n",
    "nltk.download('punkt')\n",
    "from src.metrics import calculate_bleu_score, calculate_rouge_score"
   ]
  },
  {
   "cell_type": "code",
   "execution_count": null,
   "id": "f7072e10-780f-4ab9-b5f8-7b03da2aeb22",
   "metadata": {},
   "outputs": [],
   "source": [
    "calculate_bleu('GREMIO:\\nYNO3hUCnGpSdRC;aW?', 'GREMIO:\\nGood morrow, neighbour Baptista.')"
   ]
  },
  {
   "cell_type": "code",
   "execution_count": null,
   "id": "a049c772-4a63-4a82-8323-fc7293472d44",
   "metadata": {},
   "outputs": [],
   "source": [
    "calculate_bleu('GREMIO:\\nYNO3hUCnGpSdRC;aW?', 'GREMIO:\\n&-;npwld tat wat e, the tchero ilthe bee nrecurmwnuree dihet, sut\\n')"
   ]
  },
  {
   "cell_type": "code",
   "execution_count": null,
   "id": "9a946742-bbe4-491d-9c99-3f3db72de6f2",
   "metadata": {},
   "outputs": [],
   "source": [
    "valid_dataset_batch = generate_batch_dataset(\n",
    "    text=text_valid,\n",
    "    ids_from_chars=ids_from_chars,\n",
    "    seq_length=SEQ_LENGTH,\n",
    "    buffer_size=BUFFER_SIZE,\n",
    "    batch_size=BATCH_SIZE\n",
    ")"
   ]
  }
 ],
 "metadata": {
  "kernelspec": {
   "display_name": "venv-jup",
   "language": "python",
   "name": "venv-jup"
  },
  "language_info": {
   "codemirror_mode": {
    "name": "ipython",
    "version": 3
   },
   "file_extension": ".py",
   "mimetype": "text/x-python",
   "name": "python",
   "nbconvert_exporter": "python",
   "pygments_lexer": "ipython3",
   "version": "3.11.0"
  }
 },
 "nbformat": 4,
 "nbformat_minor": 5
}